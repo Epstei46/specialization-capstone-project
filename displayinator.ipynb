{
 "cells": [
  {
   "cell_type": "markdown",
   "metadata": {},
   "source": [
    "# Project Intro\n",
    "Raw data for this project was obtained from https://data.world/sumitrock/video"
   ]
  },
  {
   "cell_type": "markdown",
   "metadata": {},
   "source": [
    "### Data Dictionary\n",
    "\n",
    "The data dictionary included in the data set only showed data types.\n",
    "\n",
    "The descriptions I added after exploring the dataset and source website (VGChartz).\n",
    "\n",
    "| Column | Data Type | Description |\n",
    "|--------|:---------:|-------------|\n",
    "| name | string | name of the game |\n",
    "| platform | string | platform  the game was released on (i.e. PS4, XOne, etc.) |\n",
    "| year_of_release | integer | year the game was released |\n",
    "| genre | string | genre of the game |\n",
    "| publisher | string | publisher of the game |\n",
    "| na_sales | decimal | sales in North America (in millions) |\n",
    "| eu_sales | decimal | sales in Europe (in millions) |\n",
    "| jp_sales | decimal | sales in Japan (in millions) |\n",
    "| other_sales | decimal | sales in the rest of the world (in millions) |\n",
    "| global_sales | decimal | sales throughout the world (in millions) |\n",
    "| critic_score | integer | average critic score, out of 100 |\n",
    "| critic_count | integer | total number of critics who provided a score |\n",
    "| user_score | string | average user score from VGChartz, out of 10 |\n",
    "| user_count | integer | total number of users who provided a score |\n",
    "| developer | string | developer of the game |\n",
    "| rating | string | rating of the game (i.e. E, E10+, T, M, etc.) |\n",
    "\n",
    "NOTE: user_score values are decimals, 'tbd', or empty. If 'tbd' is converted to empty/NaN, then the data type could be decimal. If multiplied by 10, then the data type could be integer and comparable to critic_score."
   ]
  },
  {
   "cell_type": "markdown",
   "metadata": {},
   "source": [
    "# Initial Setup"
   ]
  },
  {
   "cell_type": "code",
   "execution_count": 40,
   "metadata": {},
   "outputs": [],
   "source": [
    "import numpy as np\n",
    "import pandas as pd\n",
    "import functions as fn\n",
    "\n",
    "df = pd.read_csv('Video_Games.csv') # reading the initial data and storing in a dataFrame\n",
    "\n",
    "# below line is removing unused columns. Commented out so that I can show functionality of cleaning function\n",
    "# df.drop(df.columns[[4,6,7,8,10,11,12,13,14,15]], axis=1, inplace=True)\n",
    "# the following columns will be kept: Name, Platform, Year_of_Release, Genre, NA_Sales, Global_Sales"
   ]
  },
  {
   "cell_type": "markdown",
   "metadata": {},
   "source": [
    "### Reducing Large df to df_subsets"
   ]
  },
  {
   "cell_type": "code",
   "execution_count": 41,
   "metadata": {},
   "outputs": [],
   "source": [
    "df_ps4 = df.loc[df['Platform'] == 'PS4']\n",
    "df_xone = df.loc[df['Platform'] == 'XOne']\n",
    "df_ps3 = df.loc[df['Platform'] == 'PS3']\n",
    "df_x360 = df.loc[df['Platform'] == 'X360']\n",
    "df_wii = df.loc[df['Platform'] == 'Wii']\n",
    "df_pc = df.loc[df['Platform'] == 'PC']\n",
    "df_psp = df.loc[df['Platform'] == 'PSP']\n",
    "df_ds = df.loc[df['Platform'] == 'DS']\n",
    "# del df # deleting original dataFrame because it is no longer needed"
   ]
  },
  {
   "cell_type": "markdown",
   "metadata": {},
   "source": [
    "# Data Cleaning"
   ]
  },
  {
   "cell_type": "code",
   "execution_count": 61,
   "metadata": {},
   "outputs": [],
   "source": [
    "# Below function checks for empty values. Can output info and be modified for cleaning\n",
    "# Currently only set up to clean columns with dtype of 'bool' or 'float64'.\n",
    "fn.try_or(lambda: fn.incomplete_check(df_ps4, clean=True, output=False))\n",
    "fn.try_or(lambda: fn.incomplete_check(df_xone, clean=True, output=False))\n",
    "\n",
    "df_ps4.drop(df_ps4.loc[df_ps4['Year_of_Release']==2017].index, inplace=True) # drop 1 row with 2017 game\n",
    "df_ds.drop(df_ds.loc[df_ds['Year_of_Release']==1985].index, inplace=True) # drop 1 row with 1985 game\n",
    "df_ds.drop(df_ds.loc[df_ds['Year_of_Release']==2020].index, inplace=True) # drop 1 row with 2020 game"
   ]
  },
  {
   "cell_type": "markdown",
   "metadata": {},
   "source": [
    "# Data Exploration"
   ]
  },
  {
   "cell_type": "code",
   "execution_count": 43,
   "metadata": {},
   "outputs": [
    {
     "name": "stdout",
     "output_type": "stream",
     "text": [
      "DataFrame df_ps4 has 398 rows/games and 16 columns.\n",
      "DataFrame df_xone has 253 rows/games and 16 columns.\n"
     ]
    }
   ],
   "source": [
    "print(f\"DataFrame df_ps4 has {df_ps4.shape[0]} rows/games and {df_ps4.shape[1]} columns.\")\n",
    "print(f\"DataFrame df_xone has {df_xone.shape[0]} rows/games and {df_xone.shape[1]} columns.\")"
   ]
  },
  {
   "cell_type": "code",
   "execution_count": 58,
   "metadata": {},
   "outputs": [
    {
     "name": "stdout",
     "output_type": "stream",
     "text": [
      "Name                object\n",
      "Platform            object\n",
      "Year_of_Release    float64\n",
      "Genre               object\n",
      "Publisher           object\n",
      "NA_Sales           float64\n",
      "EU_Sales           float64\n",
      "JP_Sales           float64\n",
      "Other_Sales        float64\n",
      "Global_Sales       float64\n",
      "Critic_Score        object\n",
      "Critic_Count        object\n",
      "User_Score          object\n",
      "User_Count          object\n",
      "Developer           object\n",
      "Rating              object\n",
      "dtype: object \n",
      "\n",
      "<>  The table includes the following [[columns, data_types], ...] ('O'==Object, likely a string):\n",
      "[['Name', dtype('O')], ['Platform', dtype('O')], ['Year_of_Release', dtype('float64')], ['Genre', dtype('O')], ['Publisher', dtype('O')], ['NA_Sales', dtype('float64')], ['EU_Sales', dtype('float64')], ['JP_Sales', dtype('float64')], ['Other_Sales', dtype('float64')], ['Global_Sales', dtype('float64')], ['Critic_Score', dtype('O')], ['Critic_Count', dtype('O')], ['User_Score', dtype('O')], ['User_Count', dtype('O')], ['Developer', dtype('O')], ['Rating', dtype('O')]].\n"
     ]
    }
   ],
   "source": [
    "\"\"\"Two Similar Outputs for Data Types in Each Column\"\"\"\n",
    "print(df_ps4.dtypes, \"\\n\") # simple print of dtypes\n",
    "# below creates a list of lists [[column,dtype],[],[]]\n",
    "columns_list = [[column, df_ps4[f\"{column}\"].dtypes] for column in df_ps4.columns]\n",
    "print(f\"<>  The table includes the following [[columns, data_types], ...] ('O'==Object, likely a string):\\n{columns_list}.\")"
   ]
  },
  {
   "cell_type": "code",
   "execution_count": 45,
   "metadata": {},
   "outputs": [
    {
     "name": "stdout",
     "output_type": "stream",
     "text": [
      "<>  PS4 Genre Counts: [['Action', 145], ['Role-Playing', 53], ['Sports', 47], ['Shooter', 42], ['Adventure', 28], ['Misc', 21], ['Racing', 19], ['Fighting', 18], ['Platform', 12], ['Simulation', 6], ['Strategy', 6], ['Puzzle', 1]].\n",
      "<>  Xbox One Genre Counts: [['Action', 89], ['Shooter', 39], ['Sports', 38], ['Racing', 21], ['Misc', 19], ['Role-Playing', 14], ['Adventure', 14], ['Fighting', 7], ['Platform', 5], ['Simulation', 4], ['Strategy', 3]].\n"
     ]
    }
   ],
   "source": [
    "\"\"\"Genre Counts for Both Systems\"\"\"\n",
    "genre_count = df_ps4[\"Genre\"].value_counts().reset_index().values.tolist() # Ordered (DESC) count of games in each genre\n",
    "print(f\"<>  PS4 Genre Counts: {genre_count}.\")\n",
    "genre_count = df_xone[\"Genre\"].value_counts().reset_index().values.tolist() # Ordered (DESC) count of games in each genre\n",
    "print(f\"<>  Xbox One Genre Counts: {genre_count}.\")"
   ]
  },
  {
   "cell_type": "code",
   "execution_count": 46,
   "metadata": {},
   "outputs": [
    {
     "name": "stdout",
     "output_type": "stream",
     "text": [
      "<>  PS4 Best Sellers: ['Call of Duty: Black Ops 3', 'Grand Theft Auto V', 'FIFA 16', 'Star Wars Battlefront (2015)', 'Call of Duty: Advanced Warfare', 'FIFA 17', 'Fallout 4', 'Fallout 4', 'FIFA 15', 'Destiny'].\n",
      "<>  Xbox One Best Sellers: ['Call of Duty: Black Ops 3', 'Grand Theft Auto V', 'Call of Duty: Advanced Warfare', 'Halo 5: Guardians', 'Fallout 4', 'Star Wars Battlefront (2015)', \"Assassin's Creed: Unity\", 'Destiny', 'Gears of War: Ultimate Edition', 'FIFA 16'].\n"
     ]
    }
   ],
   "source": [
    "\"\"\"Top 10 best sellers one each system\"\"\"\n",
    "best_sellers = [name for name in df_ps4.nlargest(10,\"Global_Sales\")[\"Name\"]] # List of strings, top 5 best sellers\n",
    "print(f\"<>  PS4 Best Sellers: {best_sellers}.\")\n",
    "best_sellers = [name for name in df_xone.nlargest(10,\"Global_Sales\")[\"Name\"]] # List of strings, top 5 best sellers\n",
    "print(f\"<>  Xbox One Best Sellers: {best_sellers}.\")"
   ]
  },
  {
   "cell_type": "code",
   "execution_count": 47,
   "metadata": {},
   "outputs": [
    {
     "name": "stdout",
     "output_type": "stream",
     "text": [
      "[['PS2', 2188], ['DS', 2164], ['PS3', 1359], ['Wii', 1337], ['X360', 1280], ['PSP', 1216], ['PS', 1214], ['PC', 982], ['GBA', 839], ['XB', 832], ['GC', 564], ['3DS', 530], ['PSV', 436], ['PS4', 399], ['N64', 325], ['XOne', 253], ['SNES', 242], ['SAT', 175], ['WiiU', 148], ['2600', 136], ['GB', 99], ['NES', 98], ['DC', 52], ['GEN', 29], ['NG', 12], ['SCD', 6], ['WS', 6], ['3DO', 3], ['TG16', 2], ['GG', 1], ['PCFX', 1]]\n"
     ]
    }
   ],
   "source": [
    "\"\"\"Total number of games for each system\"\"\"\n",
    "print(df['Platform'].value_counts().reset_index().values.tolist()) # Ordered (DESC)\n",
    "# Most games for Recent Systems: DS > PS3 > Wii > X360 > PC > PSP > PS4 > XOne"
   ]
  },
  {
   "cell_type": "markdown",
   "metadata": {},
   "source": [
    "# Data Wrangling"
   ]
  },
  {
   "cell_type": "code",
   "execution_count": 48,
   "metadata": {},
   "outputs": [
    {
     "name": "stdout",
     "output_type": "stream",
     "text": [
      "<>  Date range by system for games released:\n",
      "    PS4 'Year_of_Release' range from 2013.0 to 2016.0.\n",
      "    Xbox One 'Year_of_Release' range from 2013.0 to 2016.0.\n",
      "    PS3 'Year_of_Release' range from 2006.0 to 2016.0.\n",
      "    Xbox 360 'Year_of_Release' range from 2005.0 to 2016.0.\n",
      "    Wii 'Year_of_Release' range from 2006.0 to 2016.0.\n",
      "    DS 'Year_of_Release' range from 2004.0 to 2013.0.\n",
      "    PSP 'Year_of_Release' range from 2004.0 to 2015.0.\n",
      "    PC 'Year_of_Release' range from 1985.0 to 2016.0.\n",
      "\n"
     ]
    }
   ],
   "source": [
    "\"\"\"Date range by system for games released\"\"\"\n",
    "ps4_yr_min, ps4_yr_max = fn.try_or(lambda: fn.year_range(df_ps4,\"Year_of_Release\")) # 2013-2017\n",
    "xone_yr_min, xone_yr_max = fn.try_or(lambda: fn.year_range(df_xone,\"Year_of_Release\")) # 2013-2016\n",
    "ps3_yr_min, ps3_yr_max = fn.try_or(lambda: fn.year_range(df_ps3,\"Year_of_Release\")) # 2006-2016\n",
    "x360_yr_min, x360_yr_max = fn.try_or(lambda: fn.year_range(df_x360,\"Year_of_Release\")) # 2005-2016\n",
    "wii_yr_min, wii_yr_max = fn.try_or(lambda: fn.year_range(df_wii,\"Year_of_Release\")) # 2006-2016\n",
    "ds_yr_min, ds_yr_max = fn.try_or(lambda: fn.year_range(df_ds,\"Year_of_Release\")) #1985-2020 OR 2004-2016\n",
    "psp_yr_min, psp_yr_max = fn.try_or(lambda: fn.year_range(df_psp,\"Year_of_Release\")) # 2004-2015\n",
    "pc_yr_min, pc_yr_max = fn.try_or(lambda: fn.year_range(df_pc,\"Year_of_Release\")) # 1985-2016\n",
    "# NOTE: Data Cleaning: PS4 (1 game from 2017), DS (1 game from 2020 & 1 game from 1985), PC (has an advantage based on year range for games released)\n",
    "year_comparisons = f\"<>  Date range by system for games released:\\n\\\n",
    "    PS4 'Year_of_Release' range from {ps4_yr_min} to {ps4_yr_max}.\\n\\\n",
    "    Xbox One 'Year_of_Release' range from {xone_yr_min} to {xone_yr_max}.\\n\\\n",
    "    PS3 'Year_of_Release' range from {ps3_yr_min} to {ps3_yr_max}.\\n\\\n",
    "    Xbox 360 'Year_of_Release' range from {x360_yr_min} to {x360_yr_max}.\\n\\\n",
    "    Wii 'Year_of_Release' range from {wii_yr_min} to {wii_yr_max}.\\n\\\n",
    "    DS 'Year_of_Release' range from {ds_yr_min} to {ds_yr_max}.\\n\\\n",
    "    PSP 'Year_of_Release' range from {psp_yr_min} to {psp_yr_max}.\\n\\\n",
    "    PC 'Year_of_Release' range from {pc_yr_min} to {pc_yr_max}.\\n\"\n",
    "print(year_comparisons)"
   ]
  },
  {
   "cell_type": "code",
   "execution_count": 49,
   "metadata": {},
   "outputs": [
    {
     "name": "stdout",
     "output_type": "stream",
     "text": [
      "<>  Genre count by console, most to least:\n",
      "    PS4 genre counts: [['Total_Count', 398], ['Action', 145], ['Role-Playing', 53], ['Sports', 47], ['Shooter', 42], ['Adventure', 28], ['Misc', 21], ['Racing', 19], ['Fighting', 18], ['Platform', 12], ['Simulation', 6], ['Strategy', 6], ['Puzzle', 1]].\n",
      "    Xbox One genre counts: [['Total_Count', 253], ['Action', 89], ['Shooter', 39], ['Sports', 38], ['Racing', 21], ['Misc', 19], ['Role-Playing', 14], ['Adventure', 14], ['Fighting', 7], ['Platform', 5], ['Simulation', 4], ['Strategy', 3]].\n",
      "    PS3 genre counts: [['Total_Count', 1359], ['Action', 383], ['Sports', 219], ['Shooter', 164], ['Misc', 128], ['Role-Playing', 122], ['Racing', 95], ['Fighting', 78], ['Adventure', 74], ['Platform', 38], ['Simulation', 31], ['Strategy', 24], ['Puzzle', 3]].\n",
      "    Xbox 360 genre counts: [['Total_Count', 1280], ['Action', 329], ['Sports', 222], ['Shooter', 206], ['Misc', 127], ['Racing', 105], ['Role-Playing', 75], ['Fighting', 66], ['Adventure', 48], ['Simulation', 40], ['Strategy', 29], ['Platform', 26], ['Puzzle', 7]].\n",
      "    Wii genre counts: [['Total_Count', 1337], ['Misc', 288], ['Sports', 262], ['Action', 239], ['Racing', 94], ['Simulation', 88], ['Adventure', 83], ['Shooter', 67], ['Platform', 58], ['Puzzle', 55], ['Fighting', 43], ['Role-Playing', 35], ['Strategy', 25]].\n",
      "    DS genre counts: [['Total_Count', 2162], ['Misc', 392], ['Action', 340], ['Simulation', 284], ['Adventure', 240], ['Puzzle', 236], ['Role-Playing', 202], ['Sports', 149], ['Platform', 92], ['Strategy', 81], ['Racing', 68], ['Shooter', 42], ['Fighting', 36]].\n",
      "    PSP genre counts: [['Total_Count', 1216], ['Action', 225], ['Adventure', 213], ['Role-Playing', 194], ['Sports', 134], ['Misc', 106], ['Fighting', 75], ['Racing', 63], ['Strategy', 60], ['Puzzle', 44], ['Platform', 37], ['Shooter', 37], ['Simulation', 28]].\n",
      "    PC genre counts: [['Total_Count', 982], ['Strategy', 188], ['Action', 172], ['Shooter', 152], ['Simulation', 121], ['Role-Playing', 104], ['Adventure', 65], ['Racing', 62], ['Sports', 51], ['Puzzle', 26], ['Misc', 24], ['Platform', 11], ['Fighting', 6]]\n",
      "\n"
     ]
    }
   ],
   "source": [
    "\"\"\"Genre count by console, most to least\"\"\"\n",
    "ps4_genre_counts = fn.try_or(lambda: fn.counter(df_ps4, \"Genre\"))\n",
    "xone_genre_counts = fn.try_or(lambda: fn.counter(df_xone, \"Genre\"))\n",
    "ps3_genre_counts = fn.try_or(lambda: fn.counter(df_ps3, \"Genre\"))\n",
    "x360_genre_counts = fn.try_or(lambda: fn.counter(df_x360, \"Genre\"))\n",
    "wii_genre_counts = fn.try_or(lambda: fn.counter(df_wii, \"Genre\"))\n",
    "ds_genre_counts = fn.try_or(lambda: fn.counter(df_ds, \"Genre\"))\n",
    "psp_genre_counts = fn.try_or(lambda: fn.counter(df_psp, \"Genre\"))\n",
    "pc_genre_counts = fn.try_or(lambda: fn.counter(df_pc, \"Genre\"))\n",
    "# NOTE: Xbox One only has 253 games and PS4 has 400 games. All other systems have ~1000 or more games\n",
    "genre_count_comparisons = f\"<>  Genre count by console, most to least:\\n\\\n",
    "    PS4 genre counts: {ps4_genre_counts}.\\n\\\n",
    "    Xbox One genre counts: {xone_genre_counts}.\\n\\\n",
    "    PS3 genre counts: {ps3_genre_counts}.\\n\\\n",
    "    Xbox 360 genre counts: {x360_genre_counts}.\\n\\\n",
    "    Wii genre counts: {wii_genre_counts}.\\n\\\n",
    "    DS genre counts: {ds_genre_counts}.\\n\\\n",
    "    PSP genre counts: {psp_genre_counts}.\\n\\\n",
    "    PC genre counts: {pc_genre_counts}\\n\"\n",
    "print(genre_count_comparisons)"
   ]
  },
  {
   "cell_type": "markdown",
   "metadata": {},
   "source": [
    "# Data Analysis"
   ]
  },
  {
   "cell_type": "code",
   "execution_count": 50,
   "metadata": {},
   "outputs": [
    {
     "name": "stdout",
     "output_type": "stream",
     "text": [
      "<>  Aggregates by system for games sold ($ in millions):\n",
      "    PS4: Total Sales $324.44 | Lowest Value $0.01 | Highest Value $14.63 | Average $0.815 | Median $0.20500000000000002 | Mode $0.02.\n",
      "    Xbox One: Total Sales $161.97 | Lowest Value $0.01 | Highest Value $7.39 | Average $0.64 | Median $0.22 | Mode $0.01.\n",
      "    PS3: Total Sales $962.71 | Lowest Value $0.01 | Highest Value $21.04 | Average $0.708 | Median $0.28 | Mode $0.02.\n",
      "    Xbox 360: Total Sales $988.36 | Lowest Value $0.01 | Highest Value $21.81 | Average $0.772 | Median $0.28 | Mode $0.02.\n",
      "    Wii: Total Sales $937.27 | Lowest Value $0.01 | Highest Value $82.53 | Average $0.701 | Median $0.19 | Mode $0.02.\n",
      "    DS: Total Sales $813.55 | Lowest Value $0.01 | Highest Value $29.8 | Average $0.376 | Median $0.11 | Mode $0.02.\n",
      "    PSP: Total Sales $298.02 | Lowest Value $0.01 | Highest Value $7.69 | Average $0.245 | Median $0.09 | Mode $0.02.\n",
      "    PC: Total Sales $263.47 | Lowest Value $0.01 | Highest Value $8.01 | Average $0.268 | Median $0.04 | Mode $0.02.\n",
      "\n"
     ]
    }
   ],
   "source": [
    "\"\"\"Prints a list of aggregate data for each df/system\"\"\"\n",
    "ps4_sum, ps4_min, ps4_max, ps4_avg, ps4_med, ps4_mode = fn.try_or(lambda: fn.aggregator(df_ps4, \"Global_Sales\"))\n",
    "xone_sum, xone_min, xone_max, xone_avg, xone_med, xone_mode = fn.try_or(lambda: fn.aggregator(df_xone, \"Global_Sales\"))\n",
    "ps3_sum, ps3_min, ps3_max, ps3_avg, ps3_med, ps3_mode = fn.try_or(lambda: fn.aggregator(df_ps3, \"Global_Sales\"))\n",
    "x360_sum, x360_min, x360_max, x360_avg, x360_med, x360_mode = fn.try_or(lambda: fn.aggregator(df_x360, \"Global_Sales\"))\n",
    "wii_sum, wii_min, wii_max, wii_avg, wii_med, wii_mode = fn.try_or(lambda: fn.aggregator(df_wii, \"Global_Sales\"))\n",
    "ds_sum, ds_min, ds_max, ds_avg, ds_med, ds_mode = fn.try_or(lambda: fn.aggregator(df_ds, \"Global_Sales\"))\n",
    "psp_sum, psp_min, psp_max, psp_avg, psp_med, psp_mode = fn.try_or(lambda: fn.aggregator(df_psp, \"Global_Sales\"))\n",
    "pc_sum, pc_min, pc_max, pc_avg, pc_med, pc_mode = fn.try_or(lambda: fn.aggregator(df_pc, \"Global_Sales\"))\n",
    "# NOTE  Total Sales for PS4, PC, PSP around $300m; Xbox One total sales at $162m.\n",
    "#       Total Sales for PS3, Xbox 360, Wii, DS closer ot $900m\n",
    "aggregate_comparisons = f\"<>  Aggregates by system for games sold ($ in millions):\\n\\\n",
    "    PS4: Total Sales ${ps4_sum} | Lowest Value ${ps4_min} | Highest Value ${ps4_max} | Average ${ps4_avg} | Median ${ps4_med} | Mode ${ps4_mode.loc[0]}.\\n\\\n",
    "    Xbox One: Total Sales ${xone_sum} | Lowest Value ${xone_min} | Highest Value ${xone_max} | Average ${xone_avg} | Median ${xone_med} | Mode ${xone_mode.loc[0]}.\\n\\\n",
    "    PS3: Total Sales ${ps3_sum} | Lowest Value ${ps3_min} | Highest Value ${ps3_max} | Average ${ps3_avg} | Median ${ps3_med} | Mode ${ps3_mode.loc[0]}.\\n\\\n",
    "    Xbox 360: Total Sales ${x360_sum} | Lowest Value ${x360_min} | Highest Value ${x360_max} | Average ${x360_avg} | Median ${x360_med} | Mode ${x360_mode.loc[0]}.\\n\\\n",
    "    Wii: Total Sales ${wii_sum} | Lowest Value ${wii_min} | Highest Value ${wii_max} | Average ${wii_avg} | Median ${wii_med} | Mode ${wii_mode.loc[0]}.\\n\\\n",
    "    DS: Total Sales ${ds_sum} | Lowest Value ${ds_min} | Highest Value ${ds_max} | Average ${ds_avg} | Median ${ds_med} | Mode ${ds_mode.loc[0]}.\\n\\\n",
    "    PSP: Total Sales ${psp_sum} | Lowest Value ${psp_min} | Highest Value ${psp_max} | Average ${psp_avg} | Median ${psp_med} | Mode ${psp_mode.loc[0]}.\\n\\\n",
    "    PC: Total Sales ${pc_sum} | Lowest Value ${pc_min} | Highest Value ${pc_max} | Average ${pc_avg} | Median ${pc_med} | Mode ${pc_mode.loc[0]}.\\n\"\n",
    "print(aggregate_comparisons)"
   ]
  },
  {
   "cell_type": "code",
   "execution_count": 51,
   "metadata": {},
   "outputs": [
    {
     "name": "stdout",
     "output_type": "stream",
     "text": [
      "Genre_Sales ordered by count [[genre, games_count, sales_sum, mean, median, max, min], [...]]:\n",
      "[['Action', 145, 96.8, 0.668, 0.17, 12.61, 0.01], ['Role-Playing', 53, 36.67, 0.692, 0.19, 7.16, 0.01], ['Sports', 47, 56.23, 1.196, 0.6, 8.57, 0.01], ['Shooter', 42, 89.17, 2.123, 0.92, 14.63, 0.01], ['Adventure', 28, 6.39, 0.228, 0.07, 1.66, 0.01], ['Misc', 21, 8.84, 0.421, 0.09, 4.32, 0.02], ['Racing', 19, 12.16, 0.64, 0.22, 2.43, 0.04], ['Fighting', 18, 8.65, 0.481, 0.17, 2.78, 0.02], ['Platform', 12, 7.7, 0.642, 0.305, 1.91, 0.05], ['Simulation', 6, 1.2, 0.2, 0.205, 0.41, 0.01], ['Strategy', 6, 0.6, 0.1, 0.075, 0.21, 0.04], ['Puzzle', 1, 0.03, 0.03, 0.03, 0.03, 0.03]].\n"
     ]
    }
   ],
   "source": [
    "\"\"\"Original version of aggregates, before refactoring into a function for reusability\"\"\"\n",
    "genre_by_count = df_ps4.groupby([\"Genre\"]).agg({\"Genre\":\"count\", \"Global_Sales\":[\"sum\",\"mean\",\"median\",\"max\",\"min\"]}).round(3).sort_values(by=[(\"Genre\",\"count\")], inplace=False, ascending=False)\n",
    "print(f\"Genre_Sales ordered by count [[genre, games_count, sales_sum, mean, median, max, min], [...]]:\\n{genre_by_count.reset_index().values.tolist()}.\") # convert DataFrame to list of lists for each genre\n",
    "\n",
    "\"\"\"Similar print to above, but organized by mean instead of total games, per genre\"\"\"\n",
    "genre_by_sales = genre_by_count.sort_values(by=[(\"Global_Sales\",\"mean\")], inplace=False, ascending=False) # mean or median makes the most sense because count varies\n",
    "# print(f\"Genre_Sales ordered by mean sales [[genre, games_count, sales_sum, mean, median, max, min], [...]]:\\n{genre_by_sales.reset_index().values.tolist()}.\") # convert DataFrame to list of lists for each genre"
   ]
  },
  {
   "cell_type": "code",
   "execution_count": 52,
   "metadata": {},
   "outputs": [
    {
     "name": "stdout",
     "output_type": "stream",
     "text": [
      "<>  PS4 Genre % of Total Games: [['Total_Count', 100.0], ['Action', 36.43], ['Role-Playing', 13.32], ['Sports', 11.81], ['Shooter', 10.55], ['Adventure', 7.04], ['Misc', 5.28], ['Racing', 4.77], ['Fighting', 4.52], ['Platform', 3.02], ['Simulation', 1.51], ['Strategy', 1.51], ['Puzzle', 0.25]]\n",
      "<>  Xbox One Genre % of Total Games: [['Total_Count', 100.0], ['Action', 35.18], ['Shooter', 15.42], ['Sports', 15.02], ['Racing', 8.3], ['Misc', 7.51], ['Role-Playing', 5.53], ['Adventure', 5.53], ['Fighting', 2.77], ['Platform', 1.98], ['Simulation', 1.58], ['Strategy', 1.19]]\n"
     ]
    }
   ],
   "source": [
    "\"\"\"Converts genre counts to % of total games\"\"\"\n",
    "ps4_genre_counts_pct = [[list[0],round(list[1]/398*100,2)] for list in ps4_genre_counts]\n",
    "xone_genre_counts_pct = [[list[0],round(list[1]/253*100,2)] for list in xone_genre_counts]\n",
    "print(f\"<>  PS4 Genre % of Total Games: {ps4_genre_counts_pct}\");\n",
    "print(f\"<>  Xbox One Genre % of Total Games: {xone_genre_counts_pct}\")"
   ]
  },
  {
   "cell_type": "markdown",
   "metadata": {},
   "source": [
    "# Creating Charts"
   ]
  },
  {
   "cell_type": "code",
   "execution_count": 53,
   "metadata": {},
   "outputs": [
    {
     "data": {
      "image/png": "[encoded data removed]",
      "text/plain": [
       "<Figure size 432x288 with 1 Axes>"
      ]
     },
     "metadata": {
      "needs_background": "light"
     },
     "output_type": "display_data"
    }
   ],
   "source": [
    "\"\"\"Chart showing Xbox One vs PS4, % of Total Games by Genre\"\"\"\n",
    "top_genres = [\"Action\", \"Role Playing\", \"Sports\", \"Shooter\", \"Adventure\", \"Fighting\"] # labels for each set of grouped bars (on x-axis)\n",
    "PS4 = [36.43,13.32,11.81,10.55,7.04,4.52] # values for 1st bar in each set of grouped bars\n",
    "Xbox_One = [35.18,5.53,15.02,15.42,5.53,2.77] # values for 2nd bar in each set of grouped bars\n",
    "fn.try_or(lambda: fn.plotter(top_genres, PS4, Xbox_One, \"PS4\", \"Xbox One\", \"Genres\", \"% of Total Games\", \"Xbox One vs PS4, % of Total Games by Genre\"))"
   ]
  },
  {
   "cell_type": "code",
   "execution_count": 54,
   "metadata": {},
   "outputs": [
    {
     "data": {
      "image/png": "[encoded data removed]",
      "text/plain": [
       "<Figure size 432x288 with 1 Axes>"
      ]
     },
     "metadata": {
      "needs_background": "light"
     },
     "output_type": "display_data"
    }
   ],
   "source": [
    "\"\"\"Chart showing Xbox One vs PS4, # of Games by Genre\"\"\"\n",
    "PS4 = [145,53,47,42,28,18] # values for 1st bar in each set of grouped bars\n",
    "Xbox_One = [89,14,38,39,14,7] # values for 2nd bar in each set of grouped bars\n",
    "fn.try_or(lambda: fn.plotter(top_genres, PS4, Xbox_One, \"PS4\", \"Xbox One\", \"Genres\", \"# of Total Games\", \"Xbox One vs PS4, # of Games by Genre\"))"
   ]
  },
  {
   "cell_type": "code",
   "execution_count": 55,
   "metadata": {},
   "outputs": [
    {
     "data": {
      "image/png": "[encoded data removed]",
      "text/plain": [
       "<Figure size 432x288 with 1 Axes>"
      ]
     },
     "metadata": {
      "needs_background": "light"
     },
     "output_type": "display_data"
    }
   ],
   "source": [
    "\"\"\"Chart showing Xbox One vs PS4, Total Sales by Genre\"\"\"\n",
    "top_genres = [\"Shooter\", \"Sports\", \"Role Playing\", \"Action\", \"Racing\", \"Platform\", \"Fighting\"] \n",
    "PS4 = [89.17,56.23,36.67,96.8,12.16,7.7,8.65] # values for 1st bar in each set of grouped bars\n",
    "Xbox_One = [61.03,26.77,10.55,38.6,10.43,0.94,2.41] # values for 2nd bar in each set of grouped bars\n",
    "fn.try_or(lambda: fn.plotter(top_genres, PS4, Xbox_One, \"PS4\", \"Xbox One\", \"Genres\", \"Total Sales (in millions)\", \"Xbox One vs PS4, Total Sales by Genre\"))"
   ]
  },
  {
   "cell_type": "code",
   "execution_count": 56,
   "metadata": {},
   "outputs": [
    {
     "data": {
      "image/png": "[encoded data removed]",
      "text/plain": [
       "<Figure size 432x288 with 1 Axes>"
      ]
     },
     "metadata": {
      "needs_background": "light"
     },
     "output_type": "display_data"
    }
   ],
   "source": [
    "\"\"\"Chart showing Xbox One vs PS4, Mean Sales by Genre\"\"\"\n",
    "top_genres = [\"Shooter\", \"Sports\", \"Role Playing\", \"Action\", \"Racing\", \"Platform\", \"Fighting\"] \n",
    "PS4 = [2.123,1.196,0.692,0.668,0.64,0.642,0.481] # values for 1st bar in each set of grouped bars\n",
    "Xbox_One = [1.565,0.704,0.754,0.434,0.497,0.188,0.344] # values for 2nd bar in each set of grouped bars\n",
    "fn.try_or(lambda: fn.plotter(top_genres, PS4, Xbox_One, \"PS4\", \"Xbox One\", \"Genres\", \"Mean Sales (in millions)\", \"Xbox One vs PS4, Mean Sales by Genre\"))"
   ]
  }
 ],
 "metadata": {
  "interpreter": {
   "hash": "2be5faf79681da6f2a61fdfdd5405d65d042280f7fba6178067603e3a2925119"
  },
  "kernelspec": {
   "display_name": "Python 3.10.0 64-bit",
   "language": "python",
   "name": "python3"
  },
  "language_info": {
   "codemirror_mode": {
    "name": "ipython",
    "version": 3
   },
   "file_extension": ".py",
   "mimetype": "text/x-python",
   "name": "python",
   "nbconvert_exporter": "python",
   "pygments_lexer": "ipython3",
   "version": "3.10.0"
  },
  "orig_nbformat": 4
 },
 "nbformat": 4,
 "nbformat_minor": 2
}
